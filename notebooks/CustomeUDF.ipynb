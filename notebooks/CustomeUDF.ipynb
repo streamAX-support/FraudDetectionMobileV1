{
 "cells": [
  {
   "cell_type": "code",
   "execution_count": 1,
   "metadata": {
    "autoscroll": false,
    "hide_input": true,
    "init_cell": true
   },
   "outputs": [
    {
     "data": {
      "application/javascript": [
       "function clear_other_cells () {\n",
       "document.getElementById('file_menu').parentNode.style.display = 'none';\n",
       "document.getElementById('logout').style.display = 'none';\n",
       "document.getElementById('notebook_name').style.display = 'none';\n",
       "var this_cell = $(element).closest('.cell').data('cell');\n",
       "Jupyter.notebook.get_cells().forEach(function (cell) {\n",
       "if (cell.cell_type === 'code' && cell !== this_cell) {\n",
       "cell.clear_output();\n",
       "}\n",
       "Jupyter.notebook.set_dirty(true);\n",
       "});\n",
       "};\n",
       "$([IPython.events]).on('notebook_loaded.Notebook', clear_other_cells());\n",
       "$(window).on(\"beforeunload\", function(){\n",
       "Jupyter.notebook.kernel.restart();\n",
       "});"
      ],
      "text/plain": [
       "<IPython.core.display.Javascript object>"
      ]
     },
     "metadata": {},
     "output_type": "display_data"
    }
   ],
   "source": [
    "%%javascript\n",
    "function clear_other_cells () {\n",
    "document.getElementById('file_menu').parentNode.style.display = 'none';\n",
    "document.getElementById('logout').style.display = 'none';\n",
    "document.getElementById('notebook_name').style.display = 'none';\n",
    "var this_cell = $(element).closest('.cell').data('cell');\n",
    "Jupyter.notebook.get_cells().forEach(function (cell) {\n",
    "if (cell.cell_type === 'code' && cell !== this_cell) {\n",
    "cell.clear_output();\n",
    "}\n",
    "Jupyter.notebook.set_dirty(true);\n",
    "});\n",
    "};\n",
    "$([IPython.events]).on('notebook_loaded.Notebook', clear_other_cells());\n",
    "$(window).on(\"beforeunload\", function(){\n",
    "Jupyter.notebook.kernel.restart();\n",
    "});\n"
   ]
  },
  {
   "cell_type": "markdown",
   "metadata": {
    "autoscroll": false
   },
   "source": [
    "<ul style=\"list-style-type:circle;font-size:14px;line-height:27px;\">\n",
    "    <li><b>from streamanalytix.python.dataset import Dataset:</b> Load Dataset class from streamanalytix API.</li>\n",
    "\t<li><b>Dataset(source_name):</b> Creates object of dataset class for given source.\n",
    "\t\t<ul>\n",
    "\t\t\t<li><b>Dataset.get_dataframe():</b> Read data source and return a pandas dataframe. </li>\n",
    "\t\t</ul>\n",
    "\t</li>\n",
    "\t<li><b>from streamanalytix.utilities import sax_utils:</b> Load sax_util script. It has following functions\n",
    "\t\t<ul>\n",
    "\t\t\t<li><b>sax_utils.save_and_download_model(model_name, model_object):</b>This method lets the user to save and download the trained model with StreamAnalytix. This model can than be used for training and/or scoring purpose as part of the StreamAnalytix pipeline</li>\n",
    "\t\t\t\t<ul>\n",
    "\t\t\t\t\t<li><b>model_name:</b> Name of the model. Accepted String value only. e.g. <i>\"DecisionTreeModel\"</i></li>\n",
    "\t\t\t\t\t<li><b>model_object:</b> Object of the trained model</li>\n",
    "\t\t\t\t</ul>\n",
    "\t\t\t<li><b>sax_utils.get_h2o_cluster_url(cluster_name):</b>This method lets the user to get h2o cluster url by providing cluster name</li>\n",
    "\t\t\t\t<ul>\n",
    "\t\t\t\t\t<li><b>cluster_name:</b> Name of the cluster. Accepted String value only. e.g. <i>\"TrainingCluster\"</i></li>\n",
    "\t\t\t\t</ul>\n",
    "\t\t\t<li><b>sax_utils.upload_and_register_h2o_model(model_object, model_name, model_type, project_name, project_version):</b>This method lets the user to upload and register h2o model in 'mojo' format in streamanalytix</li>\n",
    "\t\t\t\t<ul>\n",
    "\t\t\t\t\t<li><b>model_object:</b> Object of trained H2O model</li>\n",
    "\t\t\t\t\t<li><b>model_name:</b>Name of the model. Accepted String value only. e.g. <i>\"H2OTreeModel\"</i>\n",
    "\t\t\t\t\t<li><b>model_type:</b>Type of trained model. Accepted String value only. We support H2O model of types :<i>\"DistributedRandomForest\"</i>,<i>\"GeneralizedLinearModelling\"</i>,<i>\"IsolationForest\"</i>,<i>\"GradientBoostingMachine\"</i></li>\n",
    "\t\t\t\t\t<li><b>project_name:</b>Project Name in which model should register. Accepted String value only. e.g. <i>\"MyProject\"</i></li>\n",
    "\t\t\t\t\t<li><b>project_version:</b>Version of given project in which model should register</li>\n",
    "\t\t\t\t</ul>\n",
    "\t\t</ul>\n",
    "\t</li>\n",
    "</ul>\n"
   ]
  },
  {
   "cell_type": "code",
   "execution_count": 2,
   "metadata": {
    "autoscroll": false
   },
   "outputs": [
    {
     "name": "stdout",
     "output_type": "stream",
     "text": [
      "Connecting to H2O server at http://192.168.7.49:54321 ... successful.\n"
     ]
    },
    {
     "data": {
      "text/html": [
       "<div style=\"overflow:auto\"><table style=\"width:50%\"><tr><td>H2O cluster uptime:</td>\n",
       "<td>6 days 2 hours 25 mins</td></tr>\n",
       "<tr><td>H2O cluster timezone:</td>\n",
       "<td>America/Los_Angeles</td></tr>\n",
       "<tr><td>H2O data parsing timezone:</td>\n",
       "<td>UTC</td></tr>\n",
       "<tr><td>H2O cluster version:</td>\n",
       "<td>3.28.1.3</td></tr>\n",
       "<tr><td>H2O cluster version age:</td>\n",
       "<td>3 months and 5 days </td></tr>\n",
       "<tr><td>H2O cluster name:</td>\n",
       "<td>ESINotebookV1</td></tr>\n",
       "<tr><td>H2O cluster total nodes:</td>\n",
       "<td>1</td></tr>\n",
       "<tr><td>H2O cluster free memory:</td>\n",
       "<td>841 Mb</td></tr>\n",
       "<tr><td>H2O cluster total cores:</td>\n",
       "<td>24</td></tr>\n",
       "<tr><td>H2O cluster allowed cores:</td>\n",
       "<td>4</td></tr>\n",
       "<tr><td>H2O cluster status:</td>\n",
       "<td>locked, healthy</td></tr>\n",
       "<tr><td>H2O connection url:</td>\n",
       "<td>http://192.168.7.49:54321</td></tr>\n",
       "<tr><td>H2O connection proxy:</td>\n",
       "<td>None</td></tr>\n",
       "<tr><td>H2O internal security:</td>\n",
       "<td>False</td></tr>\n",
       "<tr><td>H2O API Extensions:</td>\n",
       "<td>Amazon S3, XGBoost, Algos, AutoML, Core V3, TargetEncoder, Core V4</td></tr>\n",
       "<tr><td>Python version:</td>\n",
       "<td>2.7.5 final</td></tr></table></div>"
      ],
      "text/plain": [
       "--------------------------  ------------------------------------------------------------------\n",
       "H2O cluster uptime:         6 days 2 hours 25 mins\n",
       "H2O cluster timezone:       America/Los_Angeles\n",
       "H2O data parsing timezone:  UTC\n",
       "H2O cluster version:        3.28.1.3\n",
       "H2O cluster version age:    3 months and 5 days\n",
       "H2O cluster name:           ESINotebookV1\n",
       "H2O cluster total nodes:    1\n",
       "H2O cluster free memory:    841 Mb\n",
       "H2O cluster total cores:    24\n",
       "H2O cluster allowed cores:  4\n",
       "H2O cluster status:         locked, healthy\n",
       "H2O connection url:         http://192.168.7.49:54321\n",
       "H2O connection proxy:\n",
       "H2O internal security:      False\n",
       "H2O API Extensions:         Amazon S3, XGBoost, Algos, AutoML, Core V3, TargetEncoder, Core V4\n",
       "Python version:             2.7.5 final\n",
       "--------------------------  ------------------------------------------------------------------"
      ]
     },
     "metadata": {},
     "output_type": "display_data"
    },
    {
     "name": "stdout",
     "output_type": "stream",
     "text": [
      "<function cluster_status at 0x7fbe919607d0>\n"
     ]
    }
   ],
   "source": [
    "from streamanalytix.python.dataset import Dataset\n",
    "from streamanalytix.utilities import sax_utils\n",
    "\n",
    "\n",
    "dataset_1 = Dataset(\"employee_data\")\n",
    "\n",
    "# you can use pandas to create dataframe as shown below\n",
    "# df = dataset_1.get_dataframe()\n",
    "import h2o\n",
    "h2o_server_url = sax_utils.get_h2o_cluster_url(\"ESINotebookV1\")\n",
    "h2o.connect(url=h2o_server_url)\n",
    "print(h2o.cluster_status)"
   ]
  },
  {
   "cell_type": "code",
   "execution_count": null,
   "metadata": {},
   "outputs": [],
   "source": []
  }
 ],
 "metadata": {
  "kernelspec": {
   "display_name": "Python 2",
   "language": "python",
   "name": "python2"
  },
  "language_info": {
   "codemirror_mode": {
    "name": "ipython",
    "version": 2
   },
   "file_extension": ".py",
   "mimetype": "text/x-python",
   "name": "python",
   "nbconvert_exporter": "python",
   "pygments_lexer": "ipython2",
   "version": "2.7.5"
  }
 },
 "nbformat": 4,
 "nbformat_minor": 2
}
